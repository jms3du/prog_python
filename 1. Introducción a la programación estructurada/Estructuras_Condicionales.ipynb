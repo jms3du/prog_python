{
  "nbformat": 4,
  "nbformat_minor": 0,
  "metadata": {
    "colab": {
      "provenance": [],
      "collapsed_sections": []
    },
    "kernelspec": {
      "name": "python3",
      "display_name": "Python 3"
    },
    "language_info": {
      "name": "python"
    }
  },
  "cells": [
    {
      "cell_type": "markdown",
      "source": [
        "# **Introducción a la programación estructurada con Python: Estructuras Condicionales**"
      ],
      "metadata": {
        "id": "RMHblSvFw_Qp"
      }
    },
    {
      "cell_type": "markdown",
      "source": [
        "## **Condicional simple**"
      ],
      "metadata": {
        "id": "Dukx1rGE190V"
      }
    },
    {
      "cell_type": "markdown",
      "source": [
        "\n",
        "Si queremos que al ejecutar nuestro programa determinadas bloques de código sólo se ejecuten cuando se reúnan ciertas condiciones, podemos utilizar las estructuras condicionales para realizar esta función.\n",
        "\n",
        "Una estructura condicional tiene la siguiente forma:\n",
        "```\n",
        "  if expresion_logica :\n",
        "    sentencia_1\n",
        "    sentencia_2\n",
        "    ...\n",
        "```\n",
        "de forma que si la expresión lógica evalúa a `True`, el grupo de sentencias que comparte tabulación y se sitúa a continuación se ejecuta.\n",
        "\n",
        "Esta estructura difiere de la siguiente:\n",
        "```\n",
        "  if expresion_logica :\n",
        "    sentencia_1\n",
        "  sentencia_2\n",
        "  ...\n",
        "```\n",
        "porque la única sentencia que depende de la expresión lógica es la **sentencia_1**. Así, en esta última la `sentencia_1` se ejecutará siempre que la expresion_logica evalúe a cierto (`True`) y la `sentencia_2` y aquellas que la sigan se ejecutarán siempre.\n",
        "\n",
        "Esto ocurre porque el lenguaje de programación **Python** utiliza la *tabulación* (también llamada *indentación*) para identificar secuencia de sentencias o bloques de código.\n",
        "\n",
        "\n",
        "Veamos algunos ejemplos:\n"
      ],
      "metadata": {
        "id": "tzAPtjphxN59"
      }
    },
    {
      "cell_type": "code",
      "execution_count": 1,
      "metadata": {
        "id": "2I0zIdks_afD",
        "colab": {
          "base_uri": "https://localhost:8080/"
        },
        "outputId": "b7a52ed2-64a0-4455-e0b5-7ace853d9ac8"
      },
      "outputs": [
        {
          "output_type": "stream",
          "name": "stdout",
          "text": [
            "Encendiendo aire acondicionado\n"
          ]
        }
      ],
      "source": [
        "'''\n",
        "  En este caso la variable temperatura almacena un valor de 42 grados\n",
        "  por lo que al ejecutarse la estructura condicional, la variable booleana\n",
        "  encenderAireAcondicionado cambiará a True y se imprimirá el mensaje\n",
        "  \"Encendiendo aire acondicionado\"\n",
        "'''\n",
        "\n",
        "\n",
        "encenderAireAcondicionado = False\n",
        "temperatura = 42\n",
        "\n",
        "if temperatura >= 40:\n",
        "  encenderAireAcondicionado = True\n",
        "  print(\"Encendiendo aire acondicionado\")\n",
        "\n",
        "\n",
        "'''\n",
        "  Por el contrario, ahora la variable temperatura almacena un valor de 15 grados\n",
        "  por lo que al ejecutarse la estructura condicional, la variable booleana\n",
        "  encenderAireAcondicionado mantendrá su valor y no se imprimirá mensaje alguno\n",
        "'''\n",
        "\n",
        "\n",
        "encenderAireAcondicionado = False\n",
        "temperatura = 15\n",
        "\n",
        "if temperatura >= 40:\n",
        "  encenderAireAcondicionado = True\n",
        "  print(\"Encendiendo aire acondicionado\")\n",
        "\n"
      ]
    },
    {
      "cell_type": "markdown",
      "source": [
        "## **Condicional múltiple**"
      ],
      "metadata": {
        "id": "uPxNPY1cPlaC"
      }
    },
    {
      "cell_type": "markdown",
      "source": [
        "Puede ocurrir que cuando ejecutemos nuestro programa queramos que se realicen acciones diferentes dependiendo del valor o estado de una variable.\n",
        "\n",
        "Para ello, podemos recurrir a una estructura condicional compleja en la que se evalúe más de una condición y se actúe en consecuencia.\n",
        "\n",
        "Así, en la estructura siguiente:\n",
        "\n",
        "```\n",
        "  if expresion_logica_1 :\n",
        "    sentencia_1\n",
        "    sentencia_2\n",
        "  elif expresion_logica_2:\n",
        "    sentencia_3\n",
        "    sentencia_4\n",
        "  elif expresion_logica_3:\n",
        "    sentencia_5\n",
        "    sentencia_6\n",
        "    ...\n",
        "\n",
        "```\n",
        "\n",
        "Primero se evalúa la expresión lógica 1, si esta es cierta se ejecutan las sentencias 1 y 2; por el contrario, si la primera no es cierta, nuestro programa evalúa la expresión lógica 2 y si es cierta, ejecuta sentencia_3 y sentencia_4. \n",
        "\n",
        "Lo mismo ocurriría si expresion_logica_2 es False, que se evaluaría expresion_logica_3 y así sucesivamente.\n",
        "\n",
        "Si alguna de ellas es cierta (True), ejecuta el código que corresponde a su bloque y no sigue evaluando el resto de condiciones, es decir, la ejecución de este bloque condicional finaliza cuando se encuentra una condición cierta y se ejecutan sus sentencias asociadas.\n",
        "\n",
        "Veámoslo con un ejemplo:\n"
      ],
      "metadata": {
        "id": "PU86LpMESyRw"
      }
    },
    {
      "cell_type": "code",
      "source": [
        "'''\n",
        "  Si la temperatura es inferior o igual a 15º se encenderá la calefacción.\n",
        "  Si está comprendida entre 15 y 25, encenderá el ventilador y mostrará un mensaje\n",
        "  y si es superior a 25 activará el aire acondicionado y mostrará un mensaje diferente\n",
        "'''\n",
        "\n",
        "encenderAire, encenderVentilador, encenderCalefaccion = False, False, False\n",
        "temperatura = 16\n",
        "\n",
        "if temperatura <= 15:\n",
        "  encenderCalefaccion = True\n",
        "elif temperatura <= 25:\n",
        "  encenderVentilador = True\n",
        "  print(\"Ventilando habitación\")\n",
        "elif temperatura > 25:\n",
        "  encenderAire = True\n",
        "  print(\"Refrigerando habitación\")\n"
      ],
      "metadata": {
        "colab": {
          "base_uri": "https://localhost:8080/"
        },
        "id": "RHcZkYSEcJh7",
        "outputId": "ae8af9e1-b41b-42c4-dc44-2b4d6f633ff9"
      },
      "execution_count": 6,
      "outputs": [
        {
          "output_type": "stream",
          "name": "stdout",
          "text": [
            "Ventilando habitación\n"
          ]
        }
      ]
    },
    {
      "cell_type": "markdown",
      "source": [
        "## **Opción por defecto**"
      ],
      "metadata": {
        "id": "kcSDnCYHVVwY"
      }
    },
    {
      "cell_type": "markdown",
      "source": [
        "En este último ejemplo observamos que la condición temperatura > 25 se va a cumplir siempre que no se den las anteriores, por lo que no debería ser necesario hacer que nuestro programa compruebe el valor de la variable de nuevo. \n",
        "\n",
        "Podemos utilizar entonces la palabra reservada `else` para indicar a nuestro programa que ejecute las sentencias siguientes en aquellos casos en los que los `if` o `elif` anteriores no se han ejecutado porque sus expresiones condicionales evalúan a `False`. \n",
        "\n",
        "El uso de `else` hace que obligatoriamente éste sea la **última opción disponible** en un condicional, no podemos utilizar un `elif` a continuación y si utilizamos la construcción `if...` el intérprete de python lo considera como una nueva estructura diferente no anidada en la anterior.\n",
        "\n",
        "Cuando la utilicemos, además, no podremos usar condición. Es decir, no se puede invocar mediante `else expresion_logica` \n",
        "\n",
        "```\n",
        "  if expresion_logica_1 :\n",
        "    sentencia_1\n",
        "    sentencia_2\n",
        "  elif expresion_logica_2:\n",
        "    sentencia_3\n",
        "    sentencia_4\n",
        "  else:\n",
        "    sentencia_5\n",
        "    sentencia_6\n",
        "\n",
        "```"
      ],
      "metadata": {
        "id": "0K7fV_xNVcgq"
      }
    },
    {
      "cell_type": "code",
      "source": [
        "'''\n",
        "    Esta construcción es equivalente a la anterior, pero no requiere evaluar\n",
        "    la tercera condición, pues es excluyente/complementaria a las anteriores\n",
        "'''\n",
        "\n",
        "encenderAire, encenderVentilador, encenderCalefaccion = False, False, False\n",
        "temperatura = 16\n",
        "\n",
        "if temperatura <= 15:\n",
        "  encenderCalefaccion = True\n",
        "elif temperatura <= 25:\n",
        "  encenderVentilador = True\n",
        "  print(\"Ventilando habitación\")\n",
        "else:\n",
        "  encenderAire = True\n",
        "  print(\"Refrigerando habitación\")"
      ],
      "metadata": {
        "colab": {
          "base_uri": "https://localhost:8080/"
        },
        "id": "xsMvEMHTWtS4",
        "outputId": "a6e338f8-fb98-418a-d116-e443f8349963"
      },
      "execution_count": 7,
      "outputs": [
        {
          "output_type": "stream",
          "name": "stdout",
          "text": [
            "Ventilando habitación\n"
          ]
        }
      ]
    },
    {
      "cell_type": "markdown",
      "source": [
        "## **Estructuras anidadas**"
      ],
      "metadata": {
        "id": "q71JSfL5jNyN"
      }
    },
    {
      "cell_type": "markdown",
      "source": [
        "Cada una de las sentencias condicionales if-elif-else pueden a su vez contener otras estructuras internas, por ejemplo:\n",
        "\n",
        "\n",
        "```\n",
        "  if expresion_logica_1 :\n",
        "      if expresion_logica_1_1 :\n",
        "        sentencia_1\n",
        "        sentencia_2\n",
        "      elif expresion_logica_1_2:\n",
        "        sentencia_3\n",
        "        sentencia_4\n",
        "      else:\n",
        "        sentencia_5\n",
        "        sentencia_6        \n",
        "  else:\n",
        "    sentencia_7\n",
        "    sentencia_8\n",
        "\n",
        "```\n",
        "\n",
        "En este caso, si la expresion lógica 1 es cierta, se evalúan las expresiones 1_1 o 1_2, pero si no lo es directamente se ejecutan las sentencias 7 y 8.\n",
        "\n",
        "No existe límite a la hora de anidar unas estructuras en otras, pero para reducir la complejidad ciclomática del código y aumentar su legibilidad, es buena práctica no encadenar más de tres estructuras diferentes."
      ],
      "metadata": {
        "id": "Le09L7lSjRTx"
      }
    },
    {
      "cell_type": "code",
      "source": [
        "if fumador:\n",
        "  if normoPeso:\n",
        "    print(\"riesgo cardiovascular medio-alto\")\n",
        "  elif sobrePeso:\n",
        "    print(\"riesgo cardiovascular alto\")\n",
        "  else:\n",
        "    print(\"riesgo cardiovascular muy alto\")\n",
        "else:\n",
        "  if sobrePeso or obesidad:\n",
        "    print(\"riesgo cardiovascular medio-alto\")\n",
        "  else:\n",
        "    print(\"riesgo cardiovascular bajo\")"
      ],
      "metadata": {
        "id": "BobB_RrjjRmy"
      },
      "execution_count": null,
      "outputs": []
    },
    {
      "cell_type": "markdown",
      "source": [
        "## **Sentencia 'match'**"
      ],
      "metadata": {
        "id": "Z0JR0tUQjR6a"
      }
    },
    {
      "cell_type": "markdown",
      "source": [
        "Otra estructura que nos permite dirigir el flujo de nuestro programa dependiendo de determinadas condiciones es la estructura `match-case`. \n",
        "\n",
        "Podemos utilizarla tanto para que nuestro código se ejecute en función de valores concretos de una variable (o incluso imponiendo condiciones en el case a través del condicional if).\n",
        "\n",
        "Está disponible a partir de **`python 3.10`**\n",
        "\n",
        "Su estructura es la siguiente:\n",
        "\n",
        "```\n",
        "  match var_1 :\n",
        "      case 1, 2:\n",
        "        sentencia_1\n",
        "        sentencia_2\n",
        "      case 3:\n",
        "        sentencia_3\n",
        "      case 4:\n",
        "        sentencia_4\n",
        "        sentencia_5\n",
        "      case _:\n",
        "        sentencia_por_defecto\n",
        "\n",
        "```\n",
        "\n",
        "que indica que si el valor de la variable `var_1` coincide con 1 o 2 se ejecutará el primer bloque de sentencias, si es igual a 3 se ejecuta la sentencia 3, si es igual a 4 las sentencias 4 y 5, y si no coincide con ninguno de estos valores se ejecutará la `sentencia_por_defecto` asociada a `_`. \n",
        "\n",
        "Veamos un par de ejemplos:"
      ],
      "metadata": {
        "id": "ecQtzdGrjXXF"
      }
    },
    {
      "cell_type": "code",
      "source": [
        "\n",
        "saludo = input(\"Introduzca el tipo de mensaje: \")\n",
        "\n",
        "match saludo :\n",
        "  case \"saludo\":\n",
        "    print(\"Hello, world\")\n",
        "  case \"despedida\":\n",
        "    print(\"Seeya in another life, bro\")\n",
        "  case _:\n",
        "    print(\"Not today, my friend\")\n",
        "\n",
        "\n"
      ],
      "metadata": {
        "id": "Gvsw9AlqjXgw"
      },
      "execution_count": null,
      "outputs": []
    }
  ]
}