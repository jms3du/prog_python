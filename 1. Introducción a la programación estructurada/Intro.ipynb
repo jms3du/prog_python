{
  "nbformat": 4,
  "nbformat_minor": 0,
  "metadata": {
    "colab": {
      "provenance": []
    },
    "kernelspec": {
      "name": "python3",
      "display_name": "Python 3"
    },
    "language_info": {
      "name": "python"
    }
  },
  "cells": [
    {
      "cell_type": "markdown",
      "source": [
        "# **Introducción a la programación estructurada con Python: Conceptos básicos**"
      ],
      "metadata": {
        "id": "RMHblSvFw_Qp"
      }
    },
    {
      "cell_type": "markdown",
      "source": [
        "## **Operaciones básicas de E/S**"
      ],
      "metadata": {
        "id": "Dukx1rGE190V"
      }
    },
    {
      "cell_type": "markdown",
      "source": [
        "La función **print** nos permite mostrar en la salida estándar (habitualmente la consola) el mensaje que le pasemos como argumento entre paréntesis."
      ],
      "metadata": {
        "id": "tzAPtjphxN59"
      }
    },
    {
      "cell_type": "code",
      "execution_count": 9,
      "metadata": {
        "id": "2I0zIdks_afD",
        "colab": {
          "base_uri": "https://localhost:8080/"
        },
        "outputId": "46bc057e-c260-46da-834b-38798f53bb29"
      },
      "outputs": [
        {
          "output_type": "stream",
          "name": "stdout",
          "text": [
            "Hola mundo\n"
          ]
        }
      ],
      "source": [
        "print(\"Hola mundo\")"
      ]
    },
    {
      "cell_type": "markdown",
      "source": [
        "La función **input** recibe una cadena de texto (str) desde la entrada estándar y puede mostrar un mensaje que recibe entre comillas al usuario:"
      ],
      "metadata": {
        "id": "DgS7xzqYb89P"
      }
    },
    {
      "cell_type": "code",
      "source": [
        "nombre = input(\"Introduzca su nombre: \")\n",
        "print(\"Hola, \", nombre)"
      ],
      "metadata": {
        "colab": {
          "base_uri": "https://localhost:8080/"
        },
        "id": "RHcZkYSEcJh7",
        "outputId": "8da382b0-ad18-4291-bc87-cbea79cf0aca"
      },
      "execution_count": 1,
      "outputs": [
        {
          "output_type": "stream",
          "name": "stdout",
          "text": [
            "Introduzca su nombre: Julia\n",
            "Hola,  Julia\n"
          ]
        }
      ]
    },
    {
      "cell_type": "markdown",
      "source": [
        "## **Comentarios**\n",
        "\n"
      ],
      "metadata": {
        "id": "-6AkgWuPxXa5"
      }
    },
    {
      "cell_type": "markdown",
      "source": [
        "Los comentarios nos sirven para aclarar la función de determinadas partes\n",
        "de nuestro código. Se pueden insertar de diversos modos y son obviados por el intérprete de python, es decir, ejecuta el código como si no existieran."
      ],
      "metadata": {
        "id": "HM9ZNE6mdktG"
      }
    },
    {
      "cell_type": "code",
      "source": [
        "# Un comentario de una línea comienza por el símbolo '#' \n",
        "print('Solo imprimo el mensaje, el resto se obvia') # todo lo situado a la derecha no es interpretado como código por"
      ],
      "metadata": {
        "colab": {
          "base_uri": "https://localhost:8080/"
        },
        "id": "XNY4Xd6ixZAt",
        "outputId": "a2245134-e426-4604-d718-5156837ead66"
      },
      "execution_count": 1,
      "outputs": [
        {
          "output_type": "stream",
          "name": "stdout",
          "text": [
            "Solo imprimo el mensaje, el resto se obvia\n"
          ]
        }
      ]
    },
    {
      "cell_type": "code",
      "source": [
        "'''\n",
        "  Si quiero incorporar comentarios que cubran varias líneas\n",
        "  utilizo tres comillas simples (o dobles) para delimitar el inicio del comentario\n",
        "  y otras tres para indicar su fin. También sirven para crear un mensaje multilínea\n",
        "'''\n",
        "print('''         mensaje\n",
        "         que va a ocupar \n",
        "         varias líneas\n",
        "      ''')\n",
        "\n",
        "\n",
        "# Incorporar comentarios puede ayudar a proporcionar claridad a nuestro código, !pero no abuses!"
      ],
      "metadata": {
        "colab": {
          "base_uri": "https://localhost:8080/"
        },
        "id": "IwhOhQxdx1Md",
        "outputId": "00932283-1ee8-4811-92ed-9878e270e7e9"
      },
      "execution_count": 8,
      "outputs": [
        {
          "output_type": "stream",
          "name": "stdout",
          "text": [
            "         mensaje\n",
            "         que va a ocupar \n",
            "         varias líneas\n",
            "      \n"
          ]
        }
      ]
    },
    {
      "cell_type": "markdown",
      "source": [
        "## **Variables**:\n",
        "\n"
      ],
      "metadata": {
        "id": "yy-eOqiHzdCW"
      }
    },
    {
      "cell_type": "markdown",
      "source": [
        "\n",
        "Para almacenar información en un programa (p.ej.: la edad de una persona, la temperatura, el nombre, etc.) utilizamos las variables. \n",
        "Existen diferentes tipos básicos, entre ellos:\n",
        "\n",
        "\n",
        "1.   **int**: para valores numéricos enteros\n",
        "2.   **string**: para cadenas de texto\n",
        "3.   **float**: para valores numéricos con decimales\n",
        "4.   **bool**: para variables que almacenan información del tipo Verdadero/Falso \n",
        "\n",
        "\n",
        " **Nombre de variables**:\n",
        "\n",
        "Las variables en Python solo incluyen letras (a-z, A-B), números y guión bajo ( _ ), no pudiendo empezar por un número. Valores válidos son: _usuario, usuario_1, usuario1, pero no 1usuario_.\n",
        "\n",
        "El nombre de las variables es sensible a mayúsculas, es decir, `edad` y `Edad` son dos variables diferentes.\n",
        "\n",
        "Tampoco podemos utilizar palabras reservadas del lenguaje (son unas palabras tabú que no se pueden usar) tales como print, input, if, for, entre otros.\n"
      ],
      "metadata": {
        "id": "4YIMOfGEdpXj"
      }
    },
    {
      "cell_type": "code",
      "source": [
        "edad = 15\n",
        "nombre = \"Antonio\"\n",
        "peso = 63.5\n",
        "mayorEdad = False\n",
        "sinInformacion = None;\n",
        "\n",
        "print(edad, type(edad))\n",
        "print(nombre, type(nombre))\n",
        "print(peso, type(peso))\n",
        "print(mayorEdad, type(mayorEdad))\n",
        "print(sinInformacion, type(sinInformacion))"
      ],
      "metadata": {
        "colab": {
          "base_uri": "https://localhost:8080/"
        },
        "id": "D6KaMfZozezQ",
        "outputId": "0a8de72c-d27f-4de9-c4cc-4900ac5acb3f"
      },
      "execution_count": 14,
      "outputs": [
        {
          "output_type": "stream",
          "name": "stdout",
          "text": [
            "15 <class 'int'>\n",
            "Antonio <class 'str'>\n",
            "63.5 <class 'float'>\n",
            "False <class 'bool'>\n",
            "None <class 'NoneType'>\n"
          ]
        }
      ]
    },
    {
      "cell_type": "code",
      "source": [
        "# CamelCase ==> más habitual en mundo Java\n",
        "edadPersona = 18\n",
        "tipoSoftware = 'Libre'\n",
        "\n",
        "# Convenio separación guiones ==> más habitual en mundo Python\n",
        "edad_persona = 18\n",
        "tipo_software = 'Libre'"
      ],
      "metadata": {
        "id": "euuv5NOW2NDr"
      },
      "execution_count": null,
      "outputs": []
    },
    {
      "cell_type": "markdown",
      "source": [
        "### **Conversión (casting)**\n",
        "Cuando estamos trabajando con variables de diferentes tipos (string, int, float) podemos realizar conversiones de un tipo a otro. \n",
        "\n",
        "Por ejemplo, si tenemos un valor numérico (33) lo podemos convertir a cadena y a la inversa, pero una cadena de texto ('hola') no podremos convertirla a valor numérico y el intérprete nos lanzará un error.\n",
        "\n",
        "En programación, esta operación de conversión de tipos se denomina casting y es habitual en la mayoría de los lenguajes de programación.\n",
        "Cuando los tipos son afines (números, la conversión en ocasiones de entero a decimal) es automática, no requiere nuestra intervención, pero cuando es de otros tipos (string a int), necesita una llamada explícita."
      ],
      "metadata": {
        "id": "eYisZCyKJKj-"
      }
    },
    {
      "cell_type": "code",
      "source": [
        "anyo_nacimiento = int(input('Introduce tu año de nacimiento: '))\n",
        "print('Tu edad en el año 2050 será de %s años'%(2050-anyo_nacimiento))\n",
        "\n",
        "# Si en lugar de int(input()) utilizáramos solo input(), la operación de resta \n",
        "# nos daría error porque estamos trabajando con números y cadenas\n",
        "\n",
        "anyo_nacimiento = input('Introduce tu año de nacimiento: ')\n",
        "print('Tu edad en el año 2050 será de %s años'%(2050-anyo_nacimiento))\n"
      ],
      "metadata": {
        "colab": {
          "base_uri": "https://localhost:8080/",
          "height": 252
        },
        "id": "3Q-nVfiZRXBJ",
        "outputId": "1bd797c5-3a9e-4d33-829f-bd76d7f9fc4d"
      },
      "execution_count": 23,
      "outputs": [
        {
          "name": "stdout",
          "output_type": "stream",
          "text": [
            "Introduce tu año de nacimiento: 2000\n",
            "Tu edad en el año 2050 será de 50 años\n",
            "Introduce tu año de nacimiento: 2000\n"
          ]
        },
        {
          "output_type": "error",
          "ename": "TypeError",
          "evalue": "ignored",
          "traceback": [
            "\u001b[0;31m---------------------------------------------------------------------------\u001b[0m",
            "\u001b[0;31mTypeError\u001b[0m                                 Traceback (most recent call last)",
            "\u001b[0;32m<ipython-input-23-497840e80a1e>\u001b[0m in \u001b[0;36m<module>\u001b[0;34m\u001b[0m\n\u001b[1;32m      6\u001b[0m \u001b[0;34m\u001b[0m\u001b[0m\n\u001b[1;32m      7\u001b[0m \u001b[0manyo_nacimiento\u001b[0m \u001b[0;34m=\u001b[0m \u001b[0minput\u001b[0m\u001b[0;34m(\u001b[0m\u001b[0;34m'Introduce tu año de nacimiento: '\u001b[0m\u001b[0;34m)\u001b[0m\u001b[0;34m\u001b[0m\u001b[0;34m\u001b[0m\u001b[0m\n\u001b[0;32m----> 8\u001b[0;31m \u001b[0mprint\u001b[0m\u001b[0;34m(\u001b[0m\u001b[0;34m'Tu edad en el año 2050 será de %s años'\u001b[0m\u001b[0;34m%\u001b[0m\u001b[0;34m(\u001b[0m\u001b[0;36m2050\u001b[0m\u001b[0;34m-\u001b[0m\u001b[0manyo_nacimiento\u001b[0m\u001b[0;34m)\u001b[0m\u001b[0;34m)\u001b[0m\u001b[0;34m\u001b[0m\u001b[0;34m\u001b[0m\u001b[0m\n\u001b[0m",
            "\u001b[0;31mTypeError\u001b[0m: unsupported operand type(s) for -: 'int' and 'str'"
          ]
        }
      ]
    },
    {
      "cell_type": "markdown",
      "source": [
        "## **Operadores**"
      ],
      "metadata": {
        "id": "LfORIdYHeBo6"
      }
    },
    {
      "cell_type": "markdown",
      "source": [
        "### **1. Operadores aritméticos**\n",
        "\n",
        "Son operadores que realizan una operación matemática sobre dos valores numéricos y devuelven como resultado otro número. Por ejemplo, con el operador suma (`+`) y los números 2 y 3 tendríamos como resultado:\n",
        " `2 + 3 = 5`\n",
        "\n",
        " * **suma**: +\n",
        " * **resta**: -\n",
        " * **división**: /\n",
        " * **división entera**: //\n",
        " * **módulo**: %  (devuelve el resto de la división entera de dos números)\n",
        " * **multiplicación**: *\n",
        " * **potencia**: **\n"
      ],
      "metadata": {
        "id": "gw3FwIIPeJhD"
      }
    },
    {
      "cell_type": "code",
      "source": [
        "num_1, num_2 = 3, 2\n",
        "num_dec_1, num_dec_2 = 3.1, 2.8\n",
        "\n",
        "# suma de números enteros\n",
        "print(num_1 + num_2)\n",
        "\n",
        "# suma de números decimales\n",
        "print(num_dec_1 + num_dec_2)\n",
        "\n",
        "# suma de entero y decimal\n",
        "print(num_1 + num_dec_1)\n"
      ],
      "metadata": {
        "colab": {
          "base_uri": "https://localhost:8080/"
        },
        "id": "M41j1FN9fA7X",
        "outputId": "777f998f-b0c2-4ee5-e210-2b529a0d399e"
      },
      "execution_count": 8,
      "outputs": [
        {
          "output_type": "stream",
          "name": "stdout",
          "text": [
            "5\n",
            "5.9\n",
            "6.1\n"
          ]
        }
      ]
    },
    {
      "cell_type": "code",
      "source": [
        "# resta de números enteros\n",
        "print(num_1 - num_2)\n",
        "\n",
        "# resta de números decimales\n",
        "print(num_dec_1 - num_dec_2)\n",
        "\n",
        "# resta de entero y decimal\n",
        "print(num_1 - num_dec_1)"
      ],
      "metadata": {
        "colab": {
          "base_uri": "https://localhost:8080/"
        },
        "id": "svdko5wBfuho",
        "outputId": "aefd7c46-8f11-440b-afe4-4cc6b4d738d2"
      },
      "execution_count": 9,
      "outputs": [
        {
          "output_type": "stream",
          "name": "stdout",
          "text": [
            "1\n",
            "0.30000000000000027\n",
            "-0.10000000000000009\n"
          ]
        }
      ]
    },
    {
      "cell_type": "code",
      "source": [
        "# división de números enteros\n",
        "print(num_1 / num_2)\n",
        "\n",
        "# división de números decimales\n",
        "print(num_dec_1 / num_dec_2)\n",
        "\n",
        "# división de entero y decimal\n",
        "print(num_1 / num_dec_1)"
      ],
      "metadata": {
        "colab": {
          "base_uri": "https://localhost:8080/"
        },
        "id": "VsKxh9TXgK1j",
        "outputId": "0528c5b1-7aa2-457e-e554-585f43fefdd8"
      },
      "execution_count": 11,
      "outputs": [
        {
          "output_type": "stream",
          "name": "stdout",
          "text": [
            "1.5\n",
            "1.1071428571428572\n",
            "0.9677419354838709\n"
          ]
        }
      ]
    },
    {
      "cell_type": "code",
      "source": [
        "# división entera de números enteros\n",
        "print(num_1 // num_2)\n",
        "\n",
        "# división entera de números decimales\n",
        "print(num_dec_1 // num_dec_2)\n",
        "\n",
        "# división entera de entero y decimal\n",
        "print(num_1 // num_dec_1)"
      ],
      "metadata": {
        "colab": {
          "base_uri": "https://localhost:8080/"
        },
        "id": "hy6YLI0UgyWy",
        "outputId": "4d8636b4-3f5c-43c2-88ac-e3c446eb9420"
      },
      "execution_count": 12,
      "outputs": [
        {
          "output_type": "stream",
          "name": "stdout",
          "text": [
            "1\n",
            "1.0\n",
            "0.0\n"
          ]
        }
      ]
    },
    {
      "cell_type": "code",
      "source": [
        "# operador módulo \n",
        "print(15%3)  # 3 * 5 = 15 por lo que el resto de la división es 0\n",
        "print(15%4)  # 4 * 3 = 12 por lo que el resto de la división es 3"
      ],
      "metadata": {
        "colab": {
          "base_uri": "https://localhost:8080/"
        },
        "id": "K_C0rc-Fg5Ta",
        "outputId": "b803f797-ae17-4f1b-8386-57498624c8ee"
      },
      "execution_count": 13,
      "outputs": [
        {
          "output_type": "stream",
          "name": "stdout",
          "text": [
            "0\n",
            "3\n"
          ]
        }
      ]
    },
    {
      "cell_type": "code",
      "source": [
        "# multiplicación de números enteros\n",
        "print(num_1 * num_2)\n",
        "\n",
        "# multiplicación de números decimales\n",
        "print(num_dec_1 * num_dec_2)\n",
        "\n",
        "# multiplicación de entero y decimal\n",
        "print(num_1 * num_dec_1)"
      ],
      "metadata": {
        "colab": {
          "base_uri": "https://localhost:8080/"
        },
        "id": "635sH5NehPiv",
        "outputId": "937992a4-930c-4fd7-ee4b-d5ff45a215bd"
      },
      "execution_count": 14,
      "outputs": [
        {
          "output_type": "stream",
          "name": "stdout",
          "text": [
            "6\n",
            "8.68\n",
            "9.3\n"
          ]
        }
      ]
    },
    {
      "cell_type": "code",
      "source": [
        "# operador potencia\n",
        "print(3**2)   # 3 elevado al cuadrado\n",
        "print(2**10)  # 2 elevado a 10\n",
        "print(2**0.5) # raíz cuadrada de 2"
      ],
      "metadata": {
        "colab": {
          "base_uri": "https://localhost:8080/"
        },
        "id": "TAFANEoMhaez",
        "outputId": "0fec7cf2-8147-44c1-98c3-c24193e300e5"
      },
      "execution_count": 16,
      "outputs": [
        {
          "output_type": "stream",
          "name": "stdout",
          "text": [
            "9\n",
            "1024\n",
            "1.4142135623730951\n"
          ]
        }
      ]
    },
    {
      "cell_type": "markdown",
      "source": [
        "### **2. Operadores lógicos**\n",
        "Estos operadores trabajan sobre variables o valores de tipo booleanos. Estas expresiones sólo pueden tener dos valores, cierto y falso (True, False). \n",
        "\n",
        "Habitualmente se utilizan tres tipos:\n",
        "* **and**: devuelve cierto si las dos expresiones que une son ciertas; falso en caso contrario. Tiene prioridad sobre or.\n",
        "* **or**: devuelve cierto si una cualquiera de las expresiones que une es cierta; si ninguna lo es, devuelve falso. \n",
        "* **not**: niega o devuelve lo contrario de lo que recibe. Tiene prioridad sobre or.\n"
      ],
      "metadata": {
        "id": "_j09NvXIhyku"
      }
    },
    {
      "cell_type": "code",
      "source": [
        "llueve = True\n",
        "hace_frio = True\n",
        "es_invierno = llueve and hace_frio\n",
        "es_invierno"
      ],
      "metadata": {
        "colab": {
          "base_uri": "https://localhost:8080/"
        },
        "id": "Sq1P1qAUi56r",
        "outputId": "d1c8e6ea-ac06-4028-85b7-b67070ceafd6"
      },
      "execution_count": 18,
      "outputs": [
        {
          "output_type": "execute_result",
          "data": {
            "text/plain": [
              "True"
            ]
          },
          "metadata": {},
          "execution_count": 18
        }
      ]
    },
    {
      "cell_type": "code",
      "source": [
        "guardar_paraguas = not(llueve)\n",
        "guardar_paraguas"
      ],
      "metadata": {
        "colab": {
          "base_uri": "https://localhost:8080/"
        },
        "id": "Vl2gAumSjF5Q",
        "outputId": "fa800a91-eb9c-4a2d-ead6-98a009c8ec85"
      },
      "execution_count": 19,
      "outputs": [
        {
          "output_type": "execute_result",
          "data": {
            "text/plain": [
              "False"
            ]
          },
          "metadata": {},
          "execution_count": 19
        }
      ]
    },
    {
      "cell_type": "code",
      "source": [
        "coger_chaqueta = llueve or hace_frio\n",
        "coger_chaqueta"
      ],
      "metadata": {
        "colab": {
          "base_uri": "https://localhost:8080/"
        },
        "id": "aJWc7VzGjMaV",
        "outputId": "25638c3f-b35d-4959-8e52-19028ac3c76f"
      },
      "execution_count": 20,
      "outputs": [
        {
          "output_type": "execute_result",
          "data": {
            "text/plain": [
              "True"
            ]
          },
          "metadata": {},
          "execution_count": 20
        }
      ]
    },
    {
      "cell_type": "code",
      "source": [
        "es_primavera = llueve and not(hace_frio)\n",
        "es_primavera"
      ],
      "metadata": {
        "colab": {
          "base_uri": "https://localhost:8080/"
        },
        "id": "iK2Iy4dWjUK6",
        "outputId": "70c00e4c-b1f8-493a-b877-2b9e8be2f4a8"
      },
      "execution_count": 21,
      "outputs": [
        {
          "output_type": "execute_result",
          "data": {
            "text/plain": [
              "False"
            ]
          },
          "metadata": {},
          "execution_count": 21
        }
      ]
    },
    {
      "cell_type": "markdown",
      "source": [
        "### **3. Comparadores**\n",
        "\n",
        "* **<** menor estricto: devuelve cierto si el primer valor es menor que el segundo.\n",
        "\n",
        "* **<=** menor o igual: devuelve cierto si el primer valor es menor o igual que el segundo.\n",
        "\n",
        "* **>** mayor estricto: devuelve cierto si el primer valor es mayor que el segundo.\n",
        "\n",
        "* **>=** mayor o igual: devuelve cierto si el primer valor es mayor o igual que el segundo.\n",
        "\n",
        "* **==** igual: devuelve cierto si los dos valores son iguales\n",
        "\n",
        "* **!=** diferente: compara dos valores y si son distintos devuelve True."
      ],
      "metadata": {
        "id": "_TcGUHZgpJRR"
      }
    },
    {
      "cell_type": "code",
      "source": [
        "print('3 < 5:', 3 < 5, '\\t  3 < 2:', 3 < 2, '\\t  3 < 3:', 3 < 3)\n",
        "\n",
        "print('3 <= 5:', 3 <= 5, '\\t  3 <= 2:', 3 <= 2, '  3 <= 3:', 3 <= 3)\n",
        "\n",
        "print('4 > 5:', 4 > 5, '\\t  4 > 2:', 4 > 2, '\\t  4 > 4:', 4 > 4)\n",
        "\n",
        "print('4 >= 5:', 4 >= 5, '\\t  4 >= 2:', 4 >= 2, '   4 >= 4:', 4 >= 4)\n",
        "\n",
        "print('3==3: ', 3==3, '\\t  3!=3: ', 3!=3)\n",
        "print('1==3: ', 1==3, '\\t  1!=3: ', 1!=3)\n"
      ],
      "metadata": {
        "colab": {
          "base_uri": "https://localhost:8080/"
        },
        "id": "SvRAW-WUp7IA",
        "outputId": "061711c6-6fec-4b35-eed2-561710fbf30f"
      },
      "execution_count": 41,
      "outputs": [
        {
          "output_type": "stream",
          "name": "stdout",
          "text": [
            "3 < 5: True \t  3 < 2: False \t  3 < 3: False\n",
            "3 <= 5: True \t  3 <= 2: False   3 <= 3: True\n",
            "4 > 5: False \t  4 > 2: True \t  4 > 4: False\n",
            "4 >= 5: False \t  4 >= 2: True    4 >= 4: True\n",
            "3==3:  True \t  3!=3:  False\n",
            "1==3:  False \t  1!=3:  True\n"
          ]
        }
      ]
    },
    {
      "cell_type": "markdown",
      "source": [
        "## **Operaciones con cadenas**"
      ],
      "metadata": {
        "id": "AtRVo3UKlTL2"
      }
    },
    {
      "cell_type": "markdown",
      "source": [
        "1. **Concatenación**: utilizando el operador + (como el de la suma), podemos concatenar, es decir, unir, cadenas de texto.\n",
        "\n",
        "2. **Concatenación automática**: si en una misma línea tenemos varias cadenas de texto entrecomilladas sin separar, automáticamente se unen.\n",
        "\n",
        "3. **Multiplicación**: usando el operador * podemos generar varias copias de la misma cadena de texto."
      ],
      "metadata": {
        "id": "F5vFzRt5leVp"
      }
    },
    {
      "cell_type": "code",
      "source": [
        "nombre = \"Enriqueta \"\n",
        "apellido1 = \"Gómez \"\n",
        "apellido2 = \"Jacarandá \"\n",
        "\n",
        "nombreCompleto = nombre + apellido1 + apellido2\n",
        "print(nombreCompleto)"
      ],
      "metadata": {
        "colab": {
          "base_uri": "https://localhost:8080/"
        },
        "id": "FA7NVTakmTWl",
        "outputId": "d0cd7f6a-978a-45ff-d12e-7bf7c7682b8b"
      },
      "execution_count": 25,
      "outputs": [
        {
          "output_type": "stream",
          "name": "stdout",
          "text": [
            "Enriqueta Gómez Jacarandá \n"
          ]
        }
      ]
    },
    {
      "cell_type": "code",
      "source": [
        "fullName = 'Enriqueta ' 'Sánchez ' 'Gonzálvez'\n",
        "print(fullName)"
      ],
      "metadata": {
        "colab": {
          "base_uri": "https://localhost:8080/"
        },
        "id": "2twm7-kzmnvF",
        "outputId": "77c05463-a54a-40a0-b1bc-31005e787e1c"
      },
      "execution_count": 23,
      "outputs": [
        {
          "output_type": "stream",
          "name": "stdout",
          "text": [
            "Enriqueta Sánchez Gonzálvez\n"
          ]
        }
      ]
    },
    {
      "cell_type": "code",
      "source": [
        "print(nombreCompleto * 5)"
      ],
      "metadata": {
        "colab": {
          "base_uri": "https://localhost:8080/"
        },
        "id": "FMrQpJkKmzan",
        "outputId": "d07b7fe3-62b1-47ed-e55f-94941d12bb2f"
      },
      "execution_count": 26,
      "outputs": [
        {
          "output_type": "stream",
          "name": "stdout",
          "text": [
            "Enriqueta Gómez Jacarandá Enriqueta Gómez Jacarandá Enriqueta Gómez Jacarandá Enriqueta Gómez Jacarandá Enriqueta Gómez Jacarandá \n"
          ]
        }
      ]
    },
    {
      "cell_type": "markdown",
      "source": [
        "### **Parametrización de cadenas**\n",
        "Cuando trabajamos con cadenas podemos parametrizar los mensajes de forma que si queremos variar el contenido nos resulte más sencillo.\n",
        "\n",
        "Por ejemplo, si queremos mostrar un mensaje para cada época del año y como la estación y la temperatura cambián de verano a invierno y de valor numérico, podemos cambiar las variables y el mensaje se adaptará automáticamente.\n",
        "\n",
        "La estructura es \n",
        "\n",
        "`'cadena con %s como valor a sustituir\" % (valores, ...)`"
      ],
      "metadata": {
        "id": "sqvBZbHo41zZ"
      }
    },
    {
      "cell_type": "code",
      "source": [
        "estacion = 'verano'\n",
        "temperatura_media = 39.456789\n",
        "print (\"La temperatura media este %s ha sido de %sºC.\" %(estacion, temperatura_media))\n",
        "\n",
        "estacion = 'invierno'\n",
        "temperatura_media = 5.03\n",
        "print (\"La temperatura media este %s ha sido de %sºC.\" %(estacion, temperatura_media))"
      ],
      "metadata": {
        "colab": {
          "base_uri": "https://localhost:8080/"
        },
        "id": "8APEovts43-X",
        "outputId": "d1a79ffd-7518-4b03-9896-1050d040f2e6"
      },
      "execution_count": 20,
      "outputs": [
        {
          "output_type": "stream",
          "name": "stdout",
          "text": [
            "La temperatura media este verano ha sido de 39.456789ºC.\n",
            "La temperatura media este invierno ha sido de 5.03ºC.\n"
          ]
        }
      ]
    },
    {
      "cell_type": "markdown",
      "source": [
        "También podemos utilizar \n",
        "\n",
        "`'cadena con {} como valor a sustituir\".format(valores, ...)`\n",
        "\n",
        "indicando también las posiciones decimales a imprimir o incluso el orden de los parámetros en la impresión.\n",
        "\n"
      ],
      "metadata": {
        "id": "QBAO45WZ_o3B"
      }
    },
    {
      "cell_type": "code",
      "source": [
        "print (\"La temperatura media este {} ha sido de {}ºC.\".format(estacion, temperatura_media))\n",
        "\n",
        "print (\"La temperatura media este {1} ha sido de {0}ºC.\".format(temperatura_media, estacion))\n"
      ],
      "metadata": {
        "colab": {
          "base_uri": "https://localhost:8080/"
        },
        "id": "rnLMprqC5LqC",
        "outputId": "fec36d94-c0ed-4357-aa70-078d6324ddca"
      },
      "execution_count": 21,
      "outputs": [
        {
          "output_type": "stream",
          "name": "stdout",
          "text": [
            "La temperatura media este invierno ha sido de 5.03ºC.\n",
            "La temperatura media este invierno ha sido de 5.03ºC.\n"
          ]
        }
      ]
    },
    {
      "cell_type": "code",
      "source": [
        "print (\"La temperatura media este {} ha sido de {:2.1f}ºC.\".format(estacion, temperatura_media))"
      ],
      "metadata": {
        "colab": {
          "base_uri": "https://localhost:8080/"
        },
        "id": "vTvsJwfx5d1o",
        "outputId": "1cf61dce-609f-41dd-b5cc-89e756713904"
      },
      "execution_count": 19,
      "outputs": [
        {
          "output_type": "stream",
          "name": "stdout",
          "text": [
            "La temperatura media este verano ha sido de 39.4ºC.\n"
          ]
        }
      ]
    }
  ]
}