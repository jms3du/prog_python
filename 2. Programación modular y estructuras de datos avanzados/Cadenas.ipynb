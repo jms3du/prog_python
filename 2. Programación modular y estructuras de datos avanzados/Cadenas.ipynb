{
  "nbformat": 4,
  "nbformat_minor": 0,
  "metadata": {
    "colab": {
      "provenance": []
    },
    "kernelspec": {
      "name": "python3",
      "display_name": "Python 3"
    },
    "language_info": {
      "name": "python"
    }
  },
  "cells": [
    {
      "cell_type": "markdown",
      "source": [
        "# **2.3. Cadenas**"
      ],
      "metadata": {
        "id": "lAJcLtIKj20H"
      }
    },
    {
      "cell_type": "markdown",
      "source": [
        "## **2.3.1. Introducción**"
      ],
      "metadata": {
        "id": "0hTG3PdiP92A"
      }
    },
    {
      "cell_type": "markdown",
      "source": [
        "### **Definición**\n",
        "\n",
        "En python una cadena de texto esta compuesta por uno o más caracteres alfanuméricos; para definirlas el texto o cadena de caracteres que lo conforman se sitúa entre dos comillas simples o dobles: \\' '     \\\" \""
      ],
      "metadata": {
        "id": "1tN74u66io8U"
      }
    },
    {
      "cell_type": "code",
      "source": [
        "# Esta variable contiene una cadena de caracteres\n",
        "nombre = \"Enriqueta\"\n",
        "apellidos = 'Jurado Rodríguez'\n",
        "\n",
        "print(f'Buenas tardes, {nombre} {apellidos}')"
      ],
      "metadata": {
        "id": "AX4qtvBuXXCs",
        "colab": {
          "base_uri": "https://localhost:8080/"
        },
        "outputId": "1a9d624d-15b2-4b36-ca7b-ee2b837b1b29"
      },
      "execution_count": 1,
      "outputs": [
        {
          "output_type": "stream",
          "name": "stdout",
          "text": [
            "Buenas tardes, Enriqueta Jurado Rodríguez\n"
          ]
        }
      ]
    },
    {
      "cell_type": "markdown",
      "source": [
        "El tipo asociado a las cadenas de caracteres es `str` y con ellas se pueden utilizar varias funciones como son:\n",
        "*  len: que devuelve el tamaño de la cadena\n",
        "*  upper: transforma la cadena a mayúsculas\n",
        "*  lower: transforma la cadena a minúsculas\n",
        "\n",
        "Veamos varios ejemplos:"
      ],
      "metadata": {
        "id": "Fmd0HsWfmKds"
      }
    },
    {
      "cell_type": "code",
      "source": [
        "print(len(nombre),  nombre.upper(), str.lower(apellidos))"
      ],
      "metadata": {
        "colab": {
          "base_uri": "https://localhost:8080/"
        },
        "id": "_Ksv1E3O9QDW",
        "outputId": "4753dd96-f584-4e52-8585-b29d27fcf446"
      },
      "execution_count": 2,
      "outputs": [
        {
          "output_type": "stream",
          "name": "stdout",
          "text": [
            "9 ENRIQUETA jurado rodríguez\n"
          ]
        }
      ]
    },
    {
      "cell_type": "markdown",
      "source": [
        "Como puede observarse en el ejemplo anterior, tanto `lower` como `upper` se pueden utilizar invocándolas desde la propia variable, o bien, utilizando la llamada a la librería mediante **str.lower()** o **str.upper()**\n",
        "\n",
        "\n",
        "Además de definir las cadenas de texto entre pares de comillas, podemos utilizar también la notación que se utiliza con los comentarios multilínea para delimitar una cadena de texto, por ejemplo:"
      ],
      "metadata": {
        "id": "-RY2GMvK9dZV"
      }
    },
    {
      "cell_type": "code",
      "source": [
        "MENU = '''      Seleccione la opción que más le interese:\n",
        "        1. Añadir saldo\n",
        "        2. Retirar dinero\n",
        "        3. Consultar saldo\n",
        "        4. Salir\n",
        "      '''\n",
        "print(\"Longitud de la cadena\", len(MENU))\n",
        "print(MENU)"
      ],
      "metadata": {
        "colab": {
          "base_uri": "https://localhost:8080/"
        },
        "id": "8jR_D0lX-GAV",
        "outputId": "be2081ea-2c8c-42f7-e080-6c88313f4efc"
      },
      "execution_count": 3,
      "outputs": [
        {
          "output_type": "stream",
          "name": "stdout",
          "text": [
            "Longitud de la cadena 148\n",
            "      Seleccione la opción que más le interese:\n",
            "        1. Añadir saldo\n",
            "        2. Retirar dinero\n",
            "        3. Consultar saldo\n",
            "        4. Salir\n",
            "      \n"
          ]
        }
      ]
    },
    {
      "cell_type": "markdown",
      "source": [
        "## **2.3.2. Acceso indexado**"
      ],
      "metadata": {
        "id": "-KeiKTcJ-ex6"
      }
    },
    {
      "cell_type": "markdown",
      "source": [
        "Al igual que sucede con las listas, los caracteres individuales que conforman una cadena de texto pueden ser accedidos uno a uno o en grupo. Veamos varios usos:"
      ],
      "metadata": {
        "id": "Gt02nSD1-hW5"
      }
    },
    {
      "cell_type": "code",
      "source": [
        "cadena = \"Sorry, baby, hace rato que yo debí botar ese gato\"\n",
        "\n",
        "print(\"1. Imprimimos la última letra de dos formas diferentes\", cadena[-1], cadena[len(cadena)-1])\n",
        "\n",
        "print(\"2. Imprimimos la primera letra de dos formas diferentes\", cadena[0], cadena[-len(cadena)])\n",
        "\n",
        "print(\"3. Imprimimos un rango: \", cadena[2: 20])\n",
        "\n",
        "print(\"4. Imprimimos desde la quinta posición hasta el final: \", cadena[4:])\n",
        "\n",
        "print(\"5. Imprimimos desde la antepenúltima posición hasta el final: \", cadena[-3:])\n",
        "\n",
        "print(\"6. Imprimimos hasta la antepenúltima posición: \", cadena[:-2])\n",
        "\n",
        "print(\"7. Lo imprimimos todo: \", cadena[:])\n",
        "\n"
      ],
      "metadata": {
        "colab": {
          "base_uri": "https://localhost:8080/"
        },
        "id": "6FHlCMiT-tyw",
        "outputId": "1cf8370b-474f-461b-f806-b78dc604788e"
      },
      "execution_count": 4,
      "outputs": [
        {
          "output_type": "stream",
          "name": "stdout",
          "text": [
            "1. Imprimimos la última letra de dos formas diferentes o o\n",
            "2. Imprimimos la primera letra de dos formas diferentes S S\n",
            "3. Imprimimos un rango:  rry, baby, hace ra\n",
            "4. Imprimimos desde la quinta posición hasta el final:  y, baby, hace rato que yo debí botar ese gato\n",
            "5. Imprimimos desde la antepenúltima posición hasta el final:  ato\n",
            "6. Imprimimos hasta la antepenúltima posición:  Sorry, baby, hace rato que yo debí botar ese ga\n",
            "7. Lo imprimimos todo:  Sorry, baby, hace rato que yo debí botar ese gato\n"
          ]
        }
      ]
    },
    {
      "cell_type": "markdown",
      "source": [
        "Además, podemos recorrer también los elementos de una cadena de uno en uno haciendo uso de bucles:"
      ],
      "metadata": {
        "id": "9NeH5uDT_4_w"
      }
    },
    {
      "cell_type": "code",
      "source": [
        "ejemplo = \"Cadena de ejemplo\"\n",
        "\n",
        "# Acceso indexado\n",
        "for i in range(len(ejemplo)):\n",
        "  print(ejemplo[i])\n",
        "\n",
        "print(\"-\"*10)\n",
        "# Acceso elemento a elemento\n",
        "for i in ejemplo:\n",
        "  print(i)"
      ],
      "metadata": {
        "colab": {
          "base_uri": "https://localhost:8080/"
        },
        "id": "Sv6t2izv__oI",
        "outputId": "1afb1de8-92e0-44f8-e337-a01df10987e3"
      },
      "execution_count": 5,
      "outputs": [
        {
          "output_type": "stream",
          "name": "stdout",
          "text": [
            "C\n",
            "a\n",
            "d\n",
            "e\n",
            "n\n",
            "a\n",
            " \n",
            "d\n",
            "e\n",
            " \n",
            "e\n",
            "j\n",
            "e\n",
            "m\n",
            "p\n",
            "l\n",
            "o\n",
            "----------\n",
            "C\n",
            "a\n",
            "d\n",
            "e\n",
            "n\n",
            "a\n",
            " \n",
            "d\n",
            "e\n",
            " \n",
            "e\n",
            "j\n",
            "e\n",
            "m\n",
            "p\n",
            "l\n",
            "o\n"
          ]
        }
      ]
    },
    {
      "cell_type": "markdown",
      "source": [
        "Finalmente, también podemos comprobar si un caracter se encuentra en una cadena de texto utilizando el operador `in` que nos devolverá una expresión booleana (`True` o `False`)"
      ],
      "metadata": {
        "id": "5CYxdairAj0C"
      }
    },
    {
      "cell_type": "code",
      "source": [
        "print('a' in \"Hola qué haces?\")\n",
        "print('a' not in \"Hola qué haces?\")"
      ],
      "metadata": {
        "colab": {
          "base_uri": "https://localhost:8080/"
        },
        "id": "dvJY7ARu__tx",
        "outputId": "a9b610cd-4900-47d6-d21f-497c26979252"
      },
      "execution_count": 6,
      "outputs": [
        {
          "output_type": "stream",
          "name": "stdout",
          "text": [
            "True\n",
            "False\n"
          ]
        }
      ]
    }
  ]
}