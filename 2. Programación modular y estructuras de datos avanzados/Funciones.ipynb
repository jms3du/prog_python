{
  "nbformat": 4,
  "nbformat_minor": 0,
  "metadata": {
    "colab": {
      "provenance": [],
      "collapsed_sections": [
        "Dukx1rGE190V"
      ]
    },
    "kernelspec": {
      "name": "python3",
      "display_name": "Python 3"
    },
    "language_info": {
      "name": "python"
    }
  },
  "cells": [
    {
      "cell_type": "markdown",
      "source": [
        "# **2.2. Funciones**"
      ],
      "metadata": {
        "id": "lAJcLtIKj20H"
      }
    },
    {
      "cell_type": "markdown",
      "source": [
        "## **2.2.1. Introducción**"
      ],
      "metadata": {
        "id": "0hTG3PdiP92A"
      }
    },
    {
      "cell_type": "markdown",
      "source": [
        "Las funciones constituyen un elemento esencial en los lenguajes de programación y nos permiten agrupar nuestro código en unidades con características o funcionalidades similares.\n",
        "\n",
        "Los grupos de funciones se reúnen así en lo que se conocen como **librerías**, donde encontramos funciones agrupadas por ámbitos. \n",
        "Así, por ejemplo, existe la librería `math` en python que contiene funciones como la raíz cuadrada `sqrt`, el seno `sin`, coseno `cos`, valor absoluto `abs`, entre otros y la librería **random** que incorpora funciones de utilidad para generar valores aleatorios.\n"
      ],
      "metadata": {
        "id": "aStBAsCPQCE6"
      }
    },
    {
      "cell_type": "code",
      "source": [
        "import math, random\n",
        "\n",
        "print(\"Raíz cuadrada de 81:\", math.sqrt(81), \"\\nSeno de 90º:\" , round(math.sin(90), 6), \"\\nValor aleatorio entre 1 y 10:\", random.randint(1,10))\n"
      ],
      "metadata": {
        "colab": {
          "base_uri": "https://localhost:8080/"
        },
        "id": "-4ZqdhxgRI87",
        "outputId": "d6de3c08-88d7-4680-eb33-b7d98da66209"
      },
      "execution_count": 12,
      "outputs": [
        {
          "output_type": "stream",
          "name": "stdout",
          "text": [
            "Raíz cuadrada de 81: 9.0 \n",
            "Seno de 90º: 0.893997 \n",
            "Valor aleatorio entre 1 y 10: 3\n"
          ]
        }
      ]
    },
    {
      "cell_type": "markdown",
      "source": [
        "## **2.2.2. Estructura de una función**\n"
      ],
      "metadata": {
        "id": "9gt12O0OoWU0"
      }
    },
    {
      "cell_type": "markdown",
      "source": [
        "\n",
        "La definición de una función se inicia con la palabra clave **def** seguida del **nombre** descriptivo de la acción que realiza la función. \n",
        "\n",
        "A continuación se incluyen entre paréntesis los argumentos que utilizará esta función en su cuerpo (si no recibe ninguno dejamos vacíos los paréntesis), cerrando la declaración de la función con dos puntos **:** .\n",
        "\n",
        "El código que compone la función se situará con una tabulación respecto  su declaración y puede o no terminar con la sentencia **return**.\n",
        "\n",
        "Si no se utiliza la sentencia return para cerrar la función, está devolverá por defecto el valor `None`.\n",
        "\n",
        "\n",
        "```\n",
        "  def nombre_accion_funcion (parametro_1, parametro_1,..., parametro_n):\n",
        "    linea 1 de código de la función\n",
        "    linea 2 de código de la función\n",
        "      .\n",
        "      .\n",
        "      .\n",
        "    linea n de código de la función\n",
        "    return valor (opcional)\n",
        "```\n",
        "\n"
      ],
      "metadata": {
        "id": "S38UIQ22oPbo"
      }
    },
    {
      "cell_type": "code",
      "source": [
        "# Función suma\n",
        "\n",
        "def suma(numero_1, numero_2):\n",
        "  resultado = numero_1 + numero_2\n",
        "  return resultado\n",
        "\n",
        "'''\n",
        "  La función aplica el operador '+' a los dos valores \n",
        "  que recibe. En este caso si son numéricos los suma\n",
        "  y si son cadenas de texto los concatena.\n",
        "'''\n",
        "\n",
        "print(suma(53, 156), 'VS',  suma(\"cadena \", \"de texto\"))"
      ],
      "metadata": {
        "colab": {
          "base_uri": "https://localhost:8080/"
        },
        "id": "EKI8sFjznLbp",
        "outputId": "c6f6fac5-1777-4e31-8bb8-e7b60b03f148"
      },
      "execution_count": 19,
      "outputs": [
        {
          "output_type": "stream",
          "name": "stdout",
          "text": [
            "209 VS cadena de texto\n"
          ]
        }
      ]
    },
    {
      "cell_type": "code",
      "source": [
        "# Duplica\n",
        "\n",
        "def duplica(valor):\n",
        "  resultado = valor * 2\n",
        "\n",
        "  return resultado\n",
        "\n",
        "\n",
        "print(duplica(8), 'VS', duplica(\"Hola, mundo \"))"
      ],
      "metadata": {
        "colab": {
          "base_uri": "https://localhost:8080/"
        },
        "id": "hBgVOtLChSdX",
        "outputId": "58649267-e592-48cd-88f0-33c1b5d325c0"
      },
      "execution_count": 18,
      "outputs": [
        {
          "output_type": "stream",
          "name": "stdout",
          "text": [
            "16 VS Hola, mundo Hola, mundo \n"
          ]
        }
      ]
    },
    {
      "cell_type": "markdown",
      "source": [
        "### **Argumentos: valores por defecto**\n",
        "\n",
        "En python podemos asignar un valor por defecto a los parámetros de una función, de forma que si no se facilita el parámetro al invocar la función, esta utiliza ese valor por defecto. \n",
        "\n",
        "Para hacerlo, al declarar el valor del parámetro le asignamos el valor por defecto."
      ],
      "metadata": {
        "id": "zaoj14TPh3BG"
      }
    },
    {
      "cell_type": "code",
      "source": [
        "# Función que saluda\n",
        "\n",
        "def saludar(nombre = \"Desconocido\"):\n",
        "  print(f\"Buenas tardes, señor {nombre}\")\n",
        "\n",
        "\n",
        "saludar(\"González\")\n",
        "saludar()\n"
      ],
      "metadata": {
        "colab": {
          "base_uri": "https://localhost:8080/"
        },
        "id": "LxNkW5nriQ0I",
        "outputId": "4ffda3a1-c445-4f3c-ec00-816563344968"
      },
      "execution_count": 20,
      "outputs": [
        {
          "output_type": "stream",
          "name": "stdout",
          "text": [
            "Buenas tardes, señor González\n",
            "Buenas tardes, señor Desconocido\n"
          ]
        }
      ]
    },
    {
      "cell_type": "markdown",
      "source": [
        "### **Argumentos: referencia por nombre de variables**\n",
        "\n",
        "En python podemos invocar a una función pasando los parámetros utilizando su nombre, por lo que el intérprete podrá resolver a qué variables nos estamos refiriendo, aunque no las llamemos en el orden correcto."
      ],
      "metadata": {
        "id": "1tN74u66io8U"
      }
    },
    {
      "cell_type": "code",
      "source": [
        "from datetime import date\n",
        "\n",
        "def calculaNacimiento(edad, nombre, apellido):\n",
        "  year = date.today().year-edad\n",
        "  mensaje = \"\"\n",
        "\n",
        "  if edad < 25:\n",
        "    mensaje = f\"{nombre} {apellido}, naciste el año {year}, eres un/a yogurín.\\n\"\n",
        "  elif edad < 55:\n",
        "    mensaje = f\"Señor/a, {apellido}. Naciste el año {year}, vete cuidando un poco, viejoven.\\n\"\n",
        "  else:\n",
        "    mensaje = f\"¿Qué hay de nuevo, viej@? Naciste el año {year}, carpe diem.\\n\"\n",
        "\n",
        "  return mensaje\n",
        "\n",
        "print(calculaNacimiento(20, 'Enrique', 'Cerezo'))\n",
        "\n",
        "print(calculaNacimiento(apellido=\"Gómez\", edad=49, nombre='Leandro'))\n",
        "\n",
        "print(calculaNacimiento(nombre=\"Juan\", apellido=\"Sánchez\", edad=90))\n"
      ],
      "metadata": {
        "colab": {
          "base_uri": "https://localhost:8080/"
        },
        "id": "Hz9Fa6DajG67",
        "outputId": "856e1726-0c32-4522-ee6e-3a028ff0149b"
      },
      "execution_count": 40,
      "outputs": [
        {
          "output_type": "stream",
          "name": "stdout",
          "text": [
            "Enrique Cerezo, naciste el año 2002, eres un/a yogurín.\n",
            "\n",
            "Señor/a, Gómez. Naciste el año 1973, vete cuidando un poco, viejoven.\n",
            "\n",
            "¿Qué hay de nuevo, viej@? Naciste el año 1932, carpe diem.\n",
            "\n"
          ]
        }
      ]
    },
    {
      "cell_type": "markdown",
      "source": [
        "## **2.2.3. Tests**"
      ],
      "metadata": {
        "id": "dSeVrboCofxa"
      }
    },
    {
      "cell_type": "markdown",
      "source": [
        "\n",
        "\n",
        "Para comprobar que una función se comporta como queremos que haga podemos crear tests que comprueben que funciona adecuadamente.\n",
        "\n",
        "Uno de las funciones de testing más útiles es la función **assert**, función que lanza un error (`AssertionError`) cuando aquello que recibe como argumento se evalúa a `False`.\n",
        "\n",
        "Por el contrario, si evalúa a `True`, no lanzará error y seguirá la ejecución del programa correctamente."
      ],
      "metadata": {
        "id": "Fmd0HsWfmKds"
      }
    },
    {
      "cell_type": "code",
      "source": [
        "\n",
        "# Función para elevar al cuadrado un número\n",
        "def eleva_al_cuadrado(numero):\n",
        "  return numero**2\n",
        "\n",
        "\n",
        "\n",
        "assert(eleva_al_cuadrado(9)==81)\n",
        "assert(eleva_al_cuadrado(-9)==81)\n",
        "assert(eleva_al_cuadrado(0)==0)\n",
        "\n",
        "\n",
        "# Función para comprobar si un caracter pasado como argumento corresponde\n",
        "# a un número decimal\n",
        "\n",
        "def es_digito(valor):\n",
        "  return str(valor) in '0123456789'\n",
        "\n",
        "\n",
        "assert(es_digito(3))\n",
        "assert(es_digito(\"9\"))\n",
        "assert(not es_digito('c')) # ==> c no es dígito, pero la negación not hace que se transforme en True\n",
        "print(\"El siguiente da error: \")\n",
        "assert(es_digito('a'))     # ==> Lanzará AssertionError"
      ],
      "metadata": {
        "colab": {
          "base_uri": "https://localhost:8080/",
          "height": 217
        },
        "id": "KoKGidKHmGx_",
        "outputId": "e2ec7c31-22b8-4b69-cfc4-11288495f573"
      },
      "execution_count": 47,
      "outputs": [
        {
          "output_type": "stream",
          "name": "stdout",
          "text": [
            "El siguiente da error: \n"
          ]
        },
        {
          "output_type": "error",
          "ename": "AssertionError",
          "evalue": "ignored",
          "traceback": [
            "\u001b[0;31m---------------------------------------------------------------------------\u001b[0m",
            "\u001b[0;31mAssertionError\u001b[0m                            Traceback (most recent call last)",
            "\u001b[0;32m<ipython-input-47-2b5d1bf8cff5>\u001b[0m in \u001b[0;36m<module>\u001b[0;34m\u001b[0m\n\u001b[1;32m     21\u001b[0m \u001b[0;32massert\u001b[0m\u001b[0;34m(\u001b[0m\u001b[0;32mnot\u001b[0m \u001b[0mes_digito\u001b[0m\u001b[0;34m(\u001b[0m\u001b[0;34m'c'\u001b[0m\u001b[0;34m)\u001b[0m\u001b[0;34m)\u001b[0m \u001b[0;31m# ==> c no es dígito, pero la negación not hace que se transforme en True\u001b[0m\u001b[0;34m\u001b[0m\u001b[0;34m\u001b[0m\u001b[0m\n\u001b[1;32m     22\u001b[0m \u001b[0mprint\u001b[0m\u001b[0;34m(\u001b[0m\u001b[0;34m\"El siguiente da error: \"\u001b[0m\u001b[0;34m)\u001b[0m\u001b[0;34m\u001b[0m\u001b[0;34m\u001b[0m\u001b[0m\n\u001b[0;32m---> 23\u001b[0;31m \u001b[0;32massert\u001b[0m\u001b[0;34m(\u001b[0m\u001b[0mes_digito\u001b[0m\u001b[0;34m(\u001b[0m\u001b[0;34m'a'\u001b[0m\u001b[0;34m)\u001b[0m\u001b[0;34m)\u001b[0m     \u001b[0;31m# ==> Lanzará AssertionError\u001b[0m\u001b[0;34m\u001b[0m\u001b[0;34m\u001b[0m\u001b[0m\n\u001b[0m",
            "\u001b[0;31mAssertionError\u001b[0m: "
          ]
        }
      ]
    }
  ]
}