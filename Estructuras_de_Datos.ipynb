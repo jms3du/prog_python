{
  "nbformat": 4,
  "nbformat_minor": 0,
  "metadata": {
    "colab": {
      "provenance": [],
      "collapsed_sections": [
        "Dukx1rGE190V"
      ]
    },
    "kernelspec": {
      "name": "python3",
      "display_name": "Python 3"
    },
    "language_info": {
      "name": "python"
    }
  },
  "cells": [
    {
      "cell_type": "markdown",
      "source": [
        "# **1.4. Estructuras de datos**"
      ],
      "metadata": {
        "id": "RMHblSvFw_Qp"
      }
    },
    {
      "cell_type": "markdown",
      "source": [
        "## **1.Cadenas**"
      ],
      "metadata": {
        "id": "Ta3ln3VDPUK1"
      }
    },
    {
      "cell_type": "code",
      "source": [],
      "metadata": {
        "id": "RHcZkYSEcJh7"
      },
      "execution_count": null,
      "outputs": []
    },
    {
      "cell_type": "markdown",
      "source": [
        "## **2. Listas**"
      ],
      "metadata": {
        "id": "0hTG3PdiP92A"
      }
    },
    {
      "cell_type": "markdown",
      "source": [
        "Son estructuras de datos que permiten almacenar un **número indefinido** de elementos que pueden ser del **mismo** o **diferentes tipos**.\n",
        "\n",
        "Características:\n",
        "\n",
        "* El ***acceso*** a los elementos que contiene se realiza de forma similar a como se accede a los caracteres de una cadena de texto, es decir, indicando entre corchetes la posición sobre la que queremos obtener la información. En listas el primer elemento se indica como `0` y al último se puede acceder mediante `-1` . \n",
        "\n",
        "\n",
        "* Para ***añadir*** un elemento a la lista utilizamos la función `.append(elemento)` que añade el elemento al final de la lista.\n",
        "\n",
        "* En esta estructura de datos el ***orden*** de los elementos sí importa (a diferencia de los conjuntos o set) y puede contener más de un elemento del mismo tipo.\n",
        "\n",
        "* Podemos conocer el tamaño de la lista utilizando la función `len`.\n",
        "\n",
        "* Son una estructura de datos mutables, es decir, su contenido puede ser modificado (añadir, eliminar) de forma dinámica."
      ],
      "metadata": {
        "id": "aStBAsCPQCE6"
      }
    },
    {
      "cell_type": "code",
      "source": [
        "fibonacci = [1, 1, 2, 3, 5, 8]\n",
        "\n",
        "print(\"La lista contiene %s elementos\" % (len(fibonacci)))\n",
        "\n",
        "# Podemos recorrer la lista mediante el acceso secuencial a cada uno de sus elementos\n",
        "for i in range(len(fibonacci)):\n",
        "  print(\"El elemento\", i+1, f\"de la secuencia es {fibonacci[i]}\")\n",
        "\n",
        "# Utilizamos .append para añadir elementos\n",
        "fibonacci.append(13)\n",
        "fibonacci.append(21)\n",
        "fibonacci.append(34)\n",
        "\n",
        "# Al igual que con cadenas 'len' (viene de length, longitud) nos proporciona la longitud de la cadena\n",
        "print(\"Ahora la lista contiene %s elementos\" % (len(fibonacci)))\n",
        "\n",
        "# Con el operador 'in' podemos ver si un elemento está contenido en una lista (devuelve True, False)\n",
        "[15 in fibonacci, 8 in fibonacci]\n"
      ],
      "metadata": {
        "colab": {
          "base_uri": "https://localhost:8080/"
        },
        "id": "-4ZqdhxgRI87",
        "outputId": "0b06e88e-d305-4eb6-9d75-5f5af5405b03"
      },
      "execution_count": 15,
      "outputs": [
        {
          "output_type": "stream",
          "name": "stdout",
          "text": [
            "La lista contiene 6 elementos\n",
            "El elemento 1 de la secuencia es 1\n",
            "El elemento 2 de la secuencia es 1\n",
            "El elemento 3 de la secuencia es 2\n",
            "El elemento 4 de la secuencia es 3\n",
            "El elemento 5 de la secuencia es 5\n",
            "El elemento 6 de la secuencia es 8\n",
            "Ahora la lista contiene 9 elementos\n"
          ]
        },
        {
          "output_type": "execute_result",
          "data": {
            "text/plain": [
              "[False, True]"
            ]
          },
          "metadata": {},
          "execution_count": 15
        }
      ]
    },
    {
      "cell_type": "code",
      "source": [
        "# Una lista en python al no tener tipo \n",
        "hoarder = [\"hola\", 1.3555, 2, True, True]\n",
        "\n",
        "\n",
        "for lo_que_sea in hoarder:\n",
        "  print(f\"El tipo del elemento {lo_que_sea} es {type(lo_que_sea)}\")\n",
        "\n",
        "hoarder.append(2)\n",
        "hoarder.append(\"hola\")\n",
        "hoarder.append(True)\n",
        "\n",
        "# Podemos hacer sublistas seleccionando elementos de forma indexada tal como se realiza con cadenas\n",
        "print(\"\\n- Los tres primeros elementos de la lista son %s y el último es %s \\n\" % (hoarder[0:3], hoarder[-1]))\n",
        "\n",
        "# Si incluimos solo un extremo segmentamos la lista desde ese punto\n",
        "print(f\"- hoarder[:-5] Desde el principio hasta el quinto elemento contando desde el final: {hoarder[:-5]} \\n\")\n",
        "\n",
        "print(f\"- hoarder[-5:] Desde el quinto elemento contando desde el final hasta el último: {hoarder[-5:]} \\n\")\n",
        "\n",
        "# Si no incluimos valor por defecto se toman los extremos:\n",
        "print(f\"- hoarder[:] Todos los elementos de la lista : {hoarder[:]}\")"
      ],
      "metadata": {
        "colab": {
          "base_uri": "https://localhost:8080/"
        },
        "id": "QG3rO0WuSV6h",
        "outputId": "0e58e824-7ce6-44b1-be16-820fe84e0178"
      },
      "execution_count": 38,
      "outputs": [
        {
          "output_type": "stream",
          "name": "stdout",
          "text": [
            "El tipo del elemento hola es <class 'str'>\n",
            "El tipo del elemento 1.3555 es <class 'float'>\n",
            "El tipo del elemento 2 es <class 'int'>\n",
            "El tipo del elemento True es <class 'bool'>\n",
            "El tipo del elemento True es <class 'bool'>\n",
            "\n",
            "- Los tres primeros elementos de la lista son ['hola', 1.3555, 2] y el último es True \n",
            "\n",
            "- hoarder[:-5] Desde el principio hasta el quinto elemento contando desde el final: ['hola', 1.3555, 2] \n",
            "\n",
            "- hoarder[-5:] Desde el quinto elemento contando desde el final hasta el último: [True, True, 2, 'hola', True] \n",
            "\n",
            "- hoarder[:] Todos los elementos de la lista : ['hola', 1.3555, 2, True, True, 2, 'hola', True]\n"
          ]
        }
      ]
    },
    {
      "cell_type": "code",
      "source": [
        "# Podemos eliminar contenido seleccionando un rango y asignándole la lista vacía\n",
        "print(hoarder)\n",
        "\n",
        "# Vaciamos los elementos que ocupan posición 3, 4 y 5 (empieza a contar en 0)\n",
        "hoarder[2:5] = []\n",
        "\n",
        "print(hoarder)\n",
        "\n",
        "# E incluso limpiar la lista completamente\n",
        "hoarder = []\n",
        "print(hoarder)\n",
        "\n",
        "# Para añadir elementos o incluso concatenar dos listas podemos usar el operador +\n",
        "hoarder = [1, 2, 3] + [4, 5, 6]\n",
        "hoarder"
      ],
      "metadata": {
        "colab": {
          "base_uri": "https://localhost:8080/"
        },
        "id": "tDGUD1hQj_mk",
        "outputId": "ae5dd479-fb40-42a5-a243-1575a838b7c6"
      },
      "execution_count": 39,
      "outputs": [
        {
          "output_type": "stream",
          "name": "stdout",
          "text": [
            "['hola', 1.3555, 2, True, True, 2, 'hola', True]\n",
            "['hola', 1.3555, 2, 'hola', True]\n",
            "[]\n"
          ]
        },
        {
          "output_type": "execute_result",
          "data": {
            "text/plain": [
              "[1, 2, 3, 4, 5, 6]"
            ]
          },
          "metadata": {},
          "execution_count": 39
        }
      ]
    },
    {
      "cell_type": "markdown",
      "source": [
        "### ¿Qué elementos seleccionan las siguientes expresiones sobre la lista?"
      ],
      "metadata": {
        "id": "IkZp6jvuQrYq"
      }
    },
    {
      "cell_type": "code",
      "source": [
        "lista = ['a', 'b', 'c', 'd', 'e', 'f', 'g', 'h', 'i']\n",
        "\n",
        "lista[:]\n",
        "lista[0:len(lista)] \n",
        "lista[-len(lista):]\n",
        "lista[:len(lista)]\n",
        "lista[len(lista)-1]\n",
        "lista[-1]\n"
      ],
      "metadata": {
        "id": "kQ_GO78ilH6M"
      },
      "execution_count": null,
      "outputs": []
    },
    {
      "cell_type": "markdown",
      "source": [
        "### Eliminar elementos de una lista\n",
        "\n",
        "Para eliminar elementos de una lista utilizamos la función `remove(elemento)`. \n",
        "\n",
        "Esta función requiere que el elemento se encuentre en la colección. Si no es así lanzaría un error `ValueError ... not in list`."
      ],
      "metadata": {
        "id": "2gp4rbzOmSOS"
      }
    },
    {
      "cell_type": "code",
      "source": [
        "lista.append('a')\n",
        "lista.remove('a') # elimina solo el primer elemento a que encuentra en la lista\n",
        "print(lista, \"\\n\")\n",
        "\n",
        "try:\n",
        "  lista.remove('z') # daría error, por lo que tendremos que comprobar si lo contiene:\n",
        "except ValueError as error:\n",
        "  print(type(error), error)\n",
        "\n",
        "if 'z' in lista:\n",
        "  lista.remove('z')\n",
        "  print(\"Elemento eliminado\")\n",
        "\n"
      ],
      "metadata": {
        "colab": {
          "base_uri": "https://localhost:8080/"
        },
        "id": "yp1DpvH-mSW0",
        "outputId": "f8ffc194-082d-4621-baab-664711688b85"
      },
      "execution_count": 71,
      "outputs": [
        {
          "output_type": "stream",
          "name": "stdout",
          "text": [
            "['b', 'c', 'd', 'e', 'f', 'g', 'h', 'i', 'a', 'a'] \n",
            "\n",
            "['b', 'c', 'd', 'e', 'f', 'g', 'h', 'i', 'a'] \n",
            "\n",
            "<class 'ValueError'> list.remove(x): x not in list\n"
          ]
        }
      ]
    }
  ]
}